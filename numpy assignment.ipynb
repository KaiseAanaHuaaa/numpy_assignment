{
 "cells": [
  {
   "cell_type": "code",
   "execution_count": 1,
   "id": "a3bcd19d",
   "metadata": {},
   "outputs": [],
   "source": [
    "import numpy as np\n"
   ]
  },
  {
   "cell_type": "code",
   "execution_count": 2,
   "id": "c803aa6b",
   "metadata": {},
   "outputs": [
    {
     "name": "stdout",
     "output_type": "stream",
     "text": [
      "[0. 0. 0. 0. 1. 0. 0. 0. 0. 0.]\n",
      "\n",
      "size 10\n"
     ]
    }
   ],
   "source": [
    "#1. Create a null vector of size 10 but the fifth value which is 1.\n",
    "ar=np.zeros(10)\n",
    "ar[4]=1\n",
    "print(ar)\n",
    "\n",
    "size=ar.size\n",
    "print(\"\\nsize\",size)"
   ]
  },
  {
   "cell_type": "code",
   "execution_count": 3,
   "id": "011523b8",
   "metadata": {},
   "outputs": [
    {
     "data": {
      "text/plain": [
       "array([10, 11, 12, 13, 14, 15, 16, 17, 18, 19, 20, 21, 22, 23, 24, 25, 26,\n",
       "       27, 28, 29, 30, 31, 32, 33, 34, 35, 36, 37, 38, 39, 40, 41, 42, 43,\n",
       "       44, 45, 46, 47, 48, 49])"
      ]
     },
     "execution_count": 3,
     "metadata": {},
     "output_type": "execute_result"
    }
   ],
   "source": [
    "#2. Create a vector with values ranging from 10 to 49.\n",
    "ar=np.arange(10,50)\n",
    "ar"
   ]
  },
  {
   "cell_type": "code",
   "execution_count": 4,
   "id": "0abd9294",
   "metadata": {},
   "outputs": [
    {
     "data": {
      "text/plain": [
       "array([[0, 1, 2],\n",
       "       [3, 4, 5],\n",
       "       [6, 7, 8]])"
      ]
     },
     "execution_count": 4,
     "metadata": {},
     "output_type": "execute_result"
    }
   ],
   "source": [
    "#3. Create a 3x3 matrix with values ranging from 0 to 8\n",
    "ar=np.arange(0,9).reshape(3,3)\n",
    "ar"
   ]
  },
  {
   "cell_type": "code",
   "execution_count": 5,
   "id": "2caece3f",
   "metadata": {},
   "outputs": [
    {
     "name": "stdout",
     "output_type": "stream",
     "text": [
      "Original array:\n",
      "[1 2 0 0 4 0]\n",
      "\n",
      "Indices of null elements:\n",
      "(array([2, 3, 5], dtype=int64),)\n"
     ]
    }
   ],
   "source": [
    "#4. Find indices of non-zero elements from [1,2,0,0,4,0]\n",
    "ar = np.array([1,2,0,0,4,0])\n",
    "\n",
    "print(\"Original array:\")\n",
    "print(ar)\n",
    "\n",
    "print(\"\\nIndices of null elements:\")\n",
    "res = np.nonzero(ar == 0)\n",
    "print(res)"
   ]
  },
  {
   "cell_type": "code",
   "execution_count": 6,
   "id": "477aadc8",
   "metadata": {},
   "outputs": [
    {
     "name": "stdout",
     "output_type": "stream",
     "text": [
      "[[-0.56367608  1.04608099 -0.53488775  0.8457926   0.24315212 -0.91673681\n",
      "   0.03566884 -1.34838193 -0.00890316 -0.02363809]\n",
      " [ 1.53657986 -1.86842804  1.19882681 -1.14445491 -0.61146592  0.35916071\n",
      "  -1.17832871  0.60680316  0.08376011 -2.54101541]\n",
      " [-1.61248073 -0.05503289 -0.5411963  -0.676995   -0.23292945  2.72860924\n",
      "   2.12574387  0.45586644 -0.19196109 -0.41823701]\n",
      " [ 0.44578161  1.01143049 -0.97965236  0.2143932  -0.14910015 -1.31113275\n",
      "  -0.07749852  0.10412734  0.48907347  1.313418  ]\n",
      " [-0.70268608  0.59722941 -0.22469695 -0.1598604   0.2708519   0.79934696\n",
      "   0.36024418 -0.80748591 -0.37888744 -0.6630731 ]\n",
      " [ 0.08475521  0.59771739 -1.33820387  0.66522093 -0.47054274 -0.863323\n",
      "  -0.82662502  0.05678838 -0.64416968 -0.41629596]\n",
      " [-1.04910985 -0.20001077 -1.00768409  0.21636616 -0.91103944 -0.11499436\n",
      "   2.31130154 -1.30570776  1.44621151 -0.97292696]\n",
      " [-1.28723171 -1.71962642 -0.5773682   1.40128143  0.17136563  1.17538301\n",
      "   0.54861136  1.48607481  1.73466464 -0.12702197]\n",
      " [-0.35445751 -0.30200364 -0.79600868 -0.79202204 -0.14448431  0.07849139\n",
      "   0.15474522 -1.32298496  0.75318916 -0.41455312]\n",
      " [ 0.91083341 -0.08758942 -0.54026531  0.28678152 -0.01493468 -0.40697089\n",
      "   0.49062906  0.12952444  0.02485903  0.51649168]]\n",
      "\n",
      "The minimum value is -2.5410154098799502\n",
      "\n",
      "The maximum value is 2.7286092408167244\n"
     ]
    }
   ],
   "source": [
    "#5. Create a 10x10 array with random values and find the minimum and maximum values.\n",
    "ar=np.random.randn(10,10)\n",
    "print(ar)\n",
    "\n",
    "minimum =ar.min()\n",
    "\n",
    "print(\"\\nThe minimum value is\", minimum)\n",
    "\n",
    "maximum =ar.max()\n",
    "\n",
    "print(\"\\nThe maximum value is\", maximum)"
   ]
  },
  {
   "cell_type": "code",
   "execution_count": 7,
   "id": "5b83e094",
   "metadata": {},
   "outputs": [
    {
     "name": "stdout",
     "output_type": "stream",
     "text": [
      "[0.46919802 0.62206155 0.69354574 0.4941507  0.05036279 0.00840709\n",
      " 0.33908926 0.30287073 0.6243753  0.40568348 0.14367071 0.76429745\n",
      " 0.63312985 0.42505888 0.35072089 0.90698293 0.7402663  0.81614164\n",
      " 0.97907588 0.73604128 0.80243124 0.73035176 0.87747276 0.42248771\n",
      " 0.9155443  0.18469421 0.1853625  0.25216228 0.79416751 0.64391372]\n",
      "\n",
      "The mean value is 0.5437906149328431\n"
     ]
    }
   ],
   "source": [
    "#6. Create a random vector of size 30 and find the mean value.\n",
    "ar=np.random.random(30)\n",
    "print(ar)\n",
    "\n",
    "ne=ar.mean()\n",
    "print(\"\\nThe mean value is\", ne)"
   ]
  },
  {
   "cell_type": "code",
   "execution_count": null,
   "id": "1e786f38",
   "metadata": {},
   "outputs": [],
   "source": []
  }
 ],
 "metadata": {
  "kernelspec": {
   "display_name": "Python 3 (ipykernel)",
   "language": "python",
   "name": "python3"
  },
  "language_info": {
   "codemirror_mode": {
    "name": "ipython",
    "version": 3
   },
   "file_extension": ".py",
   "mimetype": "text/x-python",
   "name": "python",
   "nbconvert_exporter": "python",
   "pygments_lexer": "ipython3",
   "version": "3.10.2"
  }
 },
 "nbformat": 4,
 "nbformat_minor": 5
}
